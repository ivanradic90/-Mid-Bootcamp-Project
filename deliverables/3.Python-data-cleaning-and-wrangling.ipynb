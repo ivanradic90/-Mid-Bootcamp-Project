{
 "cells": [
  {
   "cell_type": "markdown",
   "id": "5db13ff8",
   "metadata": {},
   "source": [
    "### Data Cleaning and Wrangling"
   ]
  },
  {
   "cell_type": "markdown",
   "id": "9b17dba0",
   "metadata": {},
   "source": [
    "#### initial review - shape, type and content"
   ]
  },
  {
   "cell_type": "code",
   "execution_count": 91,
   "id": "2e78e218",
   "metadata": {},
   "outputs": [],
   "source": [
    "# Importing libraries\n",
    "import pandas as pd\n",
    "import numpy as np\n",
    "import matplotlib.pyplot as plt\n",
    "import seaborn as sns\n",
    "import  warnings\n",
    "from scipy.stats import chi2_contingency\n",
    "\n",
    "warnings.filterwarnings('ignore')\n",
    "warnings.filterwarnings(\"ignore\", message=\"numpy.ufunc size changed\")\n",
    "pd.set_option('display.max_columns', None)"
   ]
  },
  {
   "cell_type": "code",
   "execution_count": 3,
   "id": "825533bb",
   "metadata": {},
   "outputs": [],
   "source": [
    "## loading data into a Pandas DataFrame\n",
    "data = pd.read_excel('C:/Users/ivanr/Downloads/mid-bootcamp-project-details/classification/creditcardmarketing.xlsx')"
   ]
  },
  {
   "cell_type": "code",
   "execution_count": 4,
   "id": "c37b27f3",
   "metadata": {},
   "outputs": [
    {
     "data": {
      "text/html": [
       "<div>\n",
       "<style scoped>\n",
       "    .dataframe tbody tr th:only-of-type {\n",
       "        vertical-align: middle;\n",
       "    }\n",
       "\n",
       "    .dataframe tbody tr th {\n",
       "        vertical-align: top;\n",
       "    }\n",
       "\n",
       "    .dataframe thead th {\n",
       "        text-align: right;\n",
       "    }\n",
       "</style>\n",
       "<table border=\"1\" class=\"dataframe\">\n",
       "  <thead>\n",
       "    <tr style=\"text-align: right;\">\n",
       "      <th></th>\n",
       "      <th>Customer Number</th>\n",
       "      <th>Offer Accepted</th>\n",
       "      <th>Reward</th>\n",
       "      <th>Mailer Type</th>\n",
       "      <th>Income Level</th>\n",
       "      <th># Bank Accounts Open</th>\n",
       "      <th>Overdraft Protection</th>\n",
       "      <th>Credit Rating</th>\n",
       "      <th># Credit Cards Held</th>\n",
       "      <th># Homes Owned</th>\n",
       "      <th>Household Size</th>\n",
       "      <th>Own Your Home</th>\n",
       "      <th>Average Balance</th>\n",
       "      <th>Q1 Balance</th>\n",
       "      <th>Q2 Balance</th>\n",
       "      <th>Q3 Balance</th>\n",
       "      <th>Q4 Balance</th>\n",
       "    </tr>\n",
       "  </thead>\n",
       "  <tbody>\n",
       "    <tr>\n",
       "      <th>0</th>\n",
       "      <td>1</td>\n",
       "      <td>No</td>\n",
       "      <td>Air Miles</td>\n",
       "      <td>Letter</td>\n",
       "      <td>High</td>\n",
       "      <td>1</td>\n",
       "      <td>No</td>\n",
       "      <td>High</td>\n",
       "      <td>2</td>\n",
       "      <td>1</td>\n",
       "      <td>4</td>\n",
       "      <td>No</td>\n",
       "      <td>1160.75</td>\n",
       "      <td>1669.0</td>\n",
       "      <td>877.0</td>\n",
       "      <td>1095.0</td>\n",
       "      <td>1002.0</td>\n",
       "    </tr>\n",
       "    <tr>\n",
       "      <th>1</th>\n",
       "      <td>2</td>\n",
       "      <td>No</td>\n",
       "      <td>Air Miles</td>\n",
       "      <td>Letter</td>\n",
       "      <td>Medium</td>\n",
       "      <td>1</td>\n",
       "      <td>No</td>\n",
       "      <td>Medium</td>\n",
       "      <td>2</td>\n",
       "      <td>2</td>\n",
       "      <td>5</td>\n",
       "      <td>Yes</td>\n",
       "      <td>147.25</td>\n",
       "      <td>39.0</td>\n",
       "      <td>106.0</td>\n",
       "      <td>78.0</td>\n",
       "      <td>366.0</td>\n",
       "    </tr>\n",
       "    <tr>\n",
       "      <th>2</th>\n",
       "      <td>3</td>\n",
       "      <td>No</td>\n",
       "      <td>Air Miles</td>\n",
       "      <td>Postcard</td>\n",
       "      <td>High</td>\n",
       "      <td>2</td>\n",
       "      <td>No</td>\n",
       "      <td>Medium</td>\n",
       "      <td>2</td>\n",
       "      <td>1</td>\n",
       "      <td>2</td>\n",
       "      <td>Yes</td>\n",
       "      <td>276.50</td>\n",
       "      <td>367.0</td>\n",
       "      <td>352.0</td>\n",
       "      <td>145.0</td>\n",
       "      <td>242.0</td>\n",
       "    </tr>\n",
       "    <tr>\n",
       "      <th>3</th>\n",
       "      <td>4</td>\n",
       "      <td>No</td>\n",
       "      <td>Air Miles</td>\n",
       "      <td>Letter</td>\n",
       "      <td>Medium</td>\n",
       "      <td>2</td>\n",
       "      <td>No</td>\n",
       "      <td>High</td>\n",
       "      <td>1</td>\n",
       "      <td>1</td>\n",
       "      <td>4</td>\n",
       "      <td>No</td>\n",
       "      <td>1219.00</td>\n",
       "      <td>1578.0</td>\n",
       "      <td>1760.0</td>\n",
       "      <td>1119.0</td>\n",
       "      <td>419.0</td>\n",
       "    </tr>\n",
       "    <tr>\n",
       "      <th>4</th>\n",
       "      <td>5</td>\n",
       "      <td>No</td>\n",
       "      <td>Air Miles</td>\n",
       "      <td>Letter</td>\n",
       "      <td>Medium</td>\n",
       "      <td>1</td>\n",
       "      <td>No</td>\n",
       "      <td>Medium</td>\n",
       "      <td>2</td>\n",
       "      <td>1</td>\n",
       "      <td>6</td>\n",
       "      <td>Yes</td>\n",
       "      <td>1211.00</td>\n",
       "      <td>2140.0</td>\n",
       "      <td>1357.0</td>\n",
       "      <td>982.0</td>\n",
       "      <td>365.0</td>\n",
       "    </tr>\n",
       "  </tbody>\n",
       "</table>\n",
       "</div>"
      ],
      "text/plain": [
       "   Customer Number Offer Accepted     Reward Mailer Type Income Level  \\\n",
       "0                1             No  Air Miles      Letter         High   \n",
       "1                2             No  Air Miles      Letter       Medium   \n",
       "2                3             No  Air Miles    Postcard         High   \n",
       "3                4             No  Air Miles      Letter       Medium   \n",
       "4                5             No  Air Miles      Letter       Medium   \n",
       "\n",
       "   # Bank Accounts Open Overdraft Protection Credit Rating  \\\n",
       "0                     1                   No          High   \n",
       "1                     1                   No        Medium   \n",
       "2                     2                   No        Medium   \n",
       "3                     2                   No          High   \n",
       "4                     1                   No        Medium   \n",
       "\n",
       "   # Credit Cards Held  # Homes Owned  Household Size Own Your Home  \\\n",
       "0                    2              1               4            No   \n",
       "1                    2              2               5           Yes   \n",
       "2                    2              1               2           Yes   \n",
       "3                    1              1               4            No   \n",
       "4                    2              1               6           Yes   \n",
       "\n",
       "   Average Balance  Q1 Balance  Q2 Balance  Q3 Balance  Q4 Balance  \n",
       "0          1160.75      1669.0       877.0      1095.0      1002.0  \n",
       "1           147.25        39.0       106.0        78.0       366.0  \n",
       "2           276.50       367.0       352.0       145.0       242.0  \n",
       "3          1219.00      1578.0      1760.0      1119.0       419.0  \n",
       "4          1211.00      2140.0      1357.0       982.0       365.0  "
      ]
     },
     "execution_count": 4,
     "metadata": {},
     "output_type": "execute_result"
    }
   ],
   "source": [
    "data.head()"
   ]
  },
  {
   "cell_type": "markdown",
   "id": "31866b92",
   "metadata": {},
   "source": [
    "We need to standardize headers names.\n",
    "We can drop column 'customer number' because it is irrelevante for our model."
   ]
  },
  {
   "cell_type": "code",
   "execution_count": 18,
   "id": "4a81f7f9",
   "metadata": {},
   "outputs": [
    {
     "data": {
      "text/plain": [
       "Index(['customer_number', 'offer_accepted', 'reward', 'mailer_type',\n",
       "       'income_level', 'bank_accounts_open', 'overdraft_protection',\n",
       "       'credit_rating', 'credit_cards_held', 'homes_owned', 'household_size',\n",
       "       'own_your_home', 'average_balance', 'q1_balance', 'q2_balance',\n",
       "       'q3_balance', 'q4_balance'],\n",
       "      dtype='object')"
      ]
     },
     "execution_count": 18,
     "metadata": {},
     "output_type": "execute_result"
    }
   ],
   "source": [
    "## Standardizing headers\n",
    "data.columns = list(map( lambda x: x.lower().replace(' ', '_').lstrip(' _#'), data.columns))\n",
    "data.columns"
   ]
  },
  {
   "cell_type": "code",
   "execution_count": 19,
   "id": "1d575495",
   "metadata": {},
   "outputs": [],
   "source": [
    "## Dropping column\n",
    "data = data.drop('customer_number', axis=1)"
   ]
  },
  {
   "cell_type": "code",
   "execution_count": 5,
   "id": "08d7c0fb",
   "metadata": {},
   "outputs": [
    {
     "data": {
      "text/plain": [
       "(18000, 17)"
      ]
     },
     "execution_count": 5,
     "metadata": {},
     "output_type": "execute_result"
    }
   ],
   "source": [
    "data.shape"
   ]
  },
  {
   "cell_type": "code",
   "execution_count": 6,
   "id": "0b68fa18",
   "metadata": {},
   "outputs": [
    {
     "name": "stdout",
     "output_type": "stream",
     "text": [
      "<class 'pandas.core.frame.DataFrame'>\n",
      "RangeIndex: 18000 entries, 0 to 17999\n",
      "Data columns (total 17 columns):\n",
      " #   Column                Non-Null Count  Dtype  \n",
      "---  ------                --------------  -----  \n",
      " 0   Customer Number       18000 non-null  int64  \n",
      " 1   Offer Accepted        18000 non-null  object \n",
      " 2   Reward                18000 non-null  object \n",
      " 3   Mailer Type           18000 non-null  object \n",
      " 4   Income Level          18000 non-null  object \n",
      " 5   # Bank Accounts Open  18000 non-null  int64  \n",
      " 6   Overdraft Protection  18000 non-null  object \n",
      " 7   Credit Rating         18000 non-null  object \n",
      " 8   # Credit Cards Held   18000 non-null  int64  \n",
      " 9   # Homes Owned         18000 non-null  int64  \n",
      " 10  Household Size        18000 non-null  int64  \n",
      " 11  Own Your Home         18000 non-null  object \n",
      " 12  Average Balance       17976 non-null  float64\n",
      " 13  Q1 Balance            17976 non-null  float64\n",
      " 14  Q2 Balance            17976 non-null  float64\n",
      " 15  Q3 Balance            17976 non-null  float64\n",
      " 16  Q4 Balance            17976 non-null  float64\n",
      "dtypes: float64(5), int64(5), object(7)\n",
      "memory usage: 2.3+ MB\n"
     ]
    }
   ],
   "source": [
    "data.info()"
   ]
  },
  {
   "cell_type": "markdown",
   "id": "652ada26",
   "metadata": {},
   "source": [
    "We can notice that in balance columns there are null values."
   ]
  },
  {
   "cell_type": "code",
   "execution_count": 20,
   "id": "56f2fd82",
   "metadata": {},
   "outputs": [
    {
     "data": {
      "text/plain": [
       "False"
      ]
     },
     "execution_count": 20,
     "metadata": {},
     "output_type": "execute_result"
    }
   ],
   "source": [
    "##  Checking for duplicates\n",
    "data_duplicates=data.duplicated().any()\n",
    "data_duplicates"
   ]
  },
  {
   "cell_type": "code",
   "execution_count": 21,
   "id": "c22460d1",
   "metadata": {},
   "outputs": [
    {
     "data": {
      "text/html": [
       "<div>\n",
       "<style scoped>\n",
       "    .dataframe tbody tr th:only-of-type {\n",
       "        vertical-align: middle;\n",
       "    }\n",
       "\n",
       "    .dataframe tbody tr th {\n",
       "        vertical-align: top;\n",
       "    }\n",
       "\n",
       "    .dataframe thead th {\n",
       "        text-align: right;\n",
       "    }\n",
       "</style>\n",
       "<table border=\"1\" class=\"dataframe\">\n",
       "  <thead>\n",
       "    <tr style=\"text-align: right;\">\n",
       "      <th></th>\n",
       "      <th>bank_accounts_open</th>\n",
       "      <th>credit_cards_held</th>\n",
       "      <th>homes_owned</th>\n",
       "      <th>household_size</th>\n",
       "      <th>average_balance</th>\n",
       "      <th>q1_balance</th>\n",
       "      <th>q2_balance</th>\n",
       "      <th>q3_balance</th>\n",
       "      <th>q4_balance</th>\n",
       "    </tr>\n",
       "  </thead>\n",
       "  <tbody>\n",
       "    <tr>\n",
       "      <th>count</th>\n",
       "      <td>18000.0</td>\n",
       "      <td>18000.0</td>\n",
       "      <td>18000.0</td>\n",
       "      <td>18000.0</td>\n",
       "      <td>17976.0</td>\n",
       "      <td>17976.0</td>\n",
       "      <td>17976.0</td>\n",
       "      <td>17976.0</td>\n",
       "      <td>17976.0</td>\n",
       "    </tr>\n",
       "    <tr>\n",
       "      <th>mean</th>\n",
       "      <td>1.0</td>\n",
       "      <td>2.0</td>\n",
       "      <td>1.0</td>\n",
       "      <td>3.0</td>\n",
       "      <td>941.0</td>\n",
       "      <td>910.0</td>\n",
       "      <td>999.0</td>\n",
       "      <td>1042.0</td>\n",
       "      <td>810.0</td>\n",
       "    </tr>\n",
       "    <tr>\n",
       "      <th>std</th>\n",
       "      <td>0.0</td>\n",
       "      <td>1.0</td>\n",
       "      <td>0.0</td>\n",
       "      <td>1.0</td>\n",
       "      <td>350.0</td>\n",
       "      <td>620.0</td>\n",
       "      <td>457.0</td>\n",
       "      <td>553.0</td>\n",
       "      <td>559.0</td>\n",
       "    </tr>\n",
       "    <tr>\n",
       "      <th>min</th>\n",
       "      <td>1.0</td>\n",
       "      <td>1.0</td>\n",
       "      <td>1.0</td>\n",
       "      <td>1.0</td>\n",
       "      <td>48.0</td>\n",
       "      <td>0.0</td>\n",
       "      <td>0.0</td>\n",
       "      <td>0.0</td>\n",
       "      <td>0.0</td>\n",
       "    </tr>\n",
       "    <tr>\n",
       "      <th>25%</th>\n",
       "      <td>1.0</td>\n",
       "      <td>1.0</td>\n",
       "      <td>1.0</td>\n",
       "      <td>3.0</td>\n",
       "      <td>788.0</td>\n",
       "      <td>393.0</td>\n",
       "      <td>663.0</td>\n",
       "      <td>633.0</td>\n",
       "      <td>363.0</td>\n",
       "    </tr>\n",
       "    <tr>\n",
       "      <th>50%</th>\n",
       "      <td>1.0</td>\n",
       "      <td>2.0</td>\n",
       "      <td>1.0</td>\n",
       "      <td>3.0</td>\n",
       "      <td>1007.0</td>\n",
       "      <td>772.0</td>\n",
       "      <td>1032.0</td>\n",
       "      <td>946.0</td>\n",
       "      <td>703.0</td>\n",
       "    </tr>\n",
       "    <tr>\n",
       "      <th>75%</th>\n",
       "      <td>1.0</td>\n",
       "      <td>2.0</td>\n",
       "      <td>1.0</td>\n",
       "      <td>4.0</td>\n",
       "      <td>1153.0</td>\n",
       "      <td>1521.0</td>\n",
       "      <td>1342.0</td>\n",
       "      <td>1463.0</td>\n",
       "      <td>1212.0</td>\n",
       "    </tr>\n",
       "    <tr>\n",
       "      <th>max</th>\n",
       "      <td>3.0</td>\n",
       "      <td>4.0</td>\n",
       "      <td>3.0</td>\n",
       "      <td>9.0</td>\n",
       "      <td>3366.0</td>\n",
       "      <td>3450.0</td>\n",
       "      <td>3421.0</td>\n",
       "      <td>3823.0</td>\n",
       "      <td>4215.0</td>\n",
       "    </tr>\n",
       "  </tbody>\n",
       "</table>\n",
       "</div>"
      ],
      "text/plain": [
       "       bank_accounts_open  credit_cards_held  homes_owned  household_size  \\\n",
       "count             18000.0            18000.0      18000.0         18000.0   \n",
       "mean                  1.0                2.0          1.0             3.0   \n",
       "std                   0.0                1.0          0.0             1.0   \n",
       "min                   1.0                1.0          1.0             1.0   \n",
       "25%                   1.0                1.0          1.0             3.0   \n",
       "50%                   1.0                2.0          1.0             3.0   \n",
       "75%                   1.0                2.0          1.0             4.0   \n",
       "max                   3.0                4.0          3.0             9.0   \n",
       "\n",
       "       average_balance  q1_balance  q2_balance  q3_balance  q4_balance  \n",
       "count          17976.0     17976.0     17976.0     17976.0     17976.0  \n",
       "mean             941.0       910.0       999.0      1042.0       810.0  \n",
       "std              350.0       620.0       457.0       553.0       559.0  \n",
       "min               48.0         0.0         0.0         0.0         0.0  \n",
       "25%              788.0       393.0       663.0       633.0       363.0  \n",
       "50%             1007.0       772.0      1032.0       946.0       703.0  \n",
       "75%             1153.0      1521.0      1342.0      1463.0      1212.0  \n",
       "max             3366.0      3450.0      3421.0      3823.0      4215.0  "
      ]
     },
     "execution_count": 21,
     "metadata": {},
     "output_type": "execute_result"
    }
   ],
   "source": [
    "round(data.describe())"
   ]
  },
  {
   "cell_type": "code",
   "execution_count": 26,
   "id": "fb4dae22",
   "metadata": {},
   "outputs": [
    {
     "data": {
      "text/plain": [
       "offer_accepted           object\n",
       "reward                   object\n",
       "mailer_type              object\n",
       "income_level             object\n",
       "bank_accounts_open        int64\n",
       "overdraft_protection     object\n",
       "credit_rating            object\n",
       "credit_cards_held         int64\n",
       "homes_owned               int64\n",
       "household_size            int64\n",
       "own_your_home            object\n",
       "average_balance         float64\n",
       "q1_balance              float64\n",
       "q2_balance              float64\n",
       "q3_balance              float64\n",
       "q4_balance              float64\n",
       "dtype: object"
      ]
     },
     "execution_count": 26,
     "metadata": {},
     "output_type": "execute_result"
    }
   ],
   "source": [
    "data.dtypes"
   ]
  },
  {
   "cell_type": "markdown",
   "id": "9709b835",
   "metadata": {},
   "source": [
    "All data types looks correct and for now we will keep it like it is."
   ]
  },
  {
   "cell_type": "code",
   "execution_count": 23,
   "id": "60c1305e",
   "metadata": {},
   "outputs": [
    {
     "name": "stdout",
     "output_type": "stream",
     "text": [
      "column name:  offer_accepted\n",
      "No     16977\n",
      "Yes     1023\n",
      "Name: offer_accepted, dtype: int64\n",
      "\n",
      "\n",
      "column name:  reward\n",
      "Air Miles    6061\n",
      "Cash Back    5999\n",
      "Points       5940\n",
      "Name: reward, dtype: int64\n",
      "\n",
      "\n",
      "column name:  mailer_type\n",
      "Postcard    9147\n",
      "Letter      8853\n",
      "Name: mailer_type, dtype: int64\n",
      "\n",
      "\n",
      "column name:  income_level\n",
      "Medium    9013\n",
      "High      4526\n",
      "Low       4461\n",
      "Name: income_level, dtype: int64\n",
      "\n",
      "\n",
      "column name:  overdraft_protection\n",
      "No     15322\n",
      "Yes     2678\n",
      "Name: overdraft_protection, dtype: int64\n",
      "\n",
      "\n",
      "column name:  credit_rating\n",
      "High      6071\n",
      "Medium    5972\n",
      "Low       5957\n",
      "Name: credit_rating, dtype: int64\n",
      "\n",
      "\n",
      "column name:  own_your_home\n",
      "Yes    11655\n",
      "No      6345\n",
      "Name: own_your_home, dtype: int64\n",
      "\n",
      "\n"
     ]
    }
   ],
   "source": [
    "## checking value counts for all categorical columns\n",
    "for col in data.select_dtypes(np.object).columns:\n",
    "    print(\"column name: \", col)\n",
    "    print(data[col].value_counts())\n",
    "    print('\\n')        "
   ]
  },
  {
   "cell_type": "markdown",
   "id": "eba5d417",
   "metadata": {},
   "source": [
    "No odd entries so no cleaning is required."
   ]
  },
  {
   "cell_type": "code",
   "execution_count": 108,
   "id": "447d8ed3",
   "metadata": {},
   "outputs": [],
   "source": [
    "#  Split the numerical data into discrete & continuous data\n",
    "\n",
    "def split_numerical(data, threshold=10):\n",
    "    numericals = data.select_dtypes(np.number)\n",
    "    cont_columns = [col for col in numericals.columns \n",
    "        if len(numericals[col].unique()) > threshold]\n",
    "    disc_columns = [col for col in numericals.columns \n",
    "        if len(numericals[col].unique()) <= threshold]\n",
    "    num_cont = data.loc[:, cont_columns]\n",
    "    num_disc = data.loc[:, disc_columns]\n",
    "    return num_cont, num_disc\n",
    "\n",
    "num_cont, num_disc = split_numerical(data)\n"
   ]
  },
  {
   "cell_type": "code",
   "execution_count": 109,
   "id": "1ce8d257",
   "metadata": {},
   "outputs": [
    {
     "name": "stdout",
     "output_type": "stream",
     "text": [
      "column name:  bank_accounts_open\n",
      "1    13692\n",
      "2     4012\n",
      "3      296\n",
      "Name: bank_accounts_open, dtype: int64\n",
      "\n",
      "\n",
      "column name:  credit_cards_held\n",
      "2    7944\n",
      "1    6154\n",
      "3    3387\n",
      "4     515\n",
      "Name: credit_cards_held, dtype: int64\n",
      "\n",
      "\n",
      "column name:  homes_owned\n",
      "1    14523\n",
      "2     3292\n",
      "3      185\n",
      "Name: homes_owned, dtype: int64\n",
      "\n",
      "\n",
      "column name:  household_size\n",
      "3    5712\n",
      "4    5543\n",
      "5    2853\n",
      "2    2813\n",
      "1     539\n",
      "6     538\n",
      "8       1\n",
      "9       1\n",
      "Name: household_size, dtype: int64\n",
      "\n",
      "\n"
     ]
    }
   ],
   "source": [
    "## checking value counts for all discrete columns\n",
    "for col in num_disc.columns:\n",
    "    print(\"column name: \", col)\n",
    "    print(num_disc[col].value_counts())\n",
    "    print('\\n')"
   ]
  },
  {
   "cell_type": "markdown",
   "id": "c654164a",
   "metadata": {},
   "source": [
    "We notice we have a very small representation of customers that:\n",
    "\n",
    "have 3 bank accounts open\n",
    "have 4 credit cards\n",
    "own 3 houses\n",
    "live in household of more than 6 people\n",
    "\n",
    "Also, we have 5 columns that represent balance."
   ]
  },
  {
   "cell_type": "markdown",
   "id": "375ea5b2",
   "metadata": {},
   "source": [
    "#### Data Cleaning"
   ]
  },
  {
   "cell_type": "markdown",
   "id": "ed6fc9b7",
   "metadata": {},
   "source": [
    "Data is relatively clean, we only need to check null values and to see can we get more benefit with using any discrete data like categorical.\n",
    "\n",
    "We will start with by checking the percentage of nulls:"
   ]
  },
  {
   "cell_type": "code",
   "execution_count": 28,
   "id": "73c055af",
   "metadata": {},
   "outputs": [
    {
     "data": {
      "text/plain": [
       "offer_accepted          0.000000\n",
       "reward                  0.000000\n",
       "mailer_type             0.000000\n",
       "income_level            0.000000\n",
       "bank_accounts_open      0.000000\n",
       "overdraft_protection    0.000000\n",
       "credit_rating           0.000000\n",
       "credit_cards_held       0.000000\n",
       "homes_owned             0.000000\n",
       "household_size          0.000000\n",
       "own_your_home           0.000000\n",
       "average_balance         0.133333\n",
       "q1_balance              0.133333\n",
       "q2_balance              0.133333\n",
       "q3_balance              0.133333\n",
       "q4_balance              0.133333\n",
       "dtype: float64"
      ]
     },
     "execution_count": 28,
     "metadata": {},
     "output_type": "execute_result"
    }
   ],
   "source": [
    "## checking precentage of nulls in data\n",
    "data.isna().sum()/len(data)*100"
   ]
  },
  {
   "cell_type": "markdown",
   "id": "3c365c4a",
   "metadata": {},
   "source": [
    "Amount of nulls is small but we can easly fill out nulls and keep records."
   ]
  },
  {
   "cell_type": "code",
   "execution_count": 37,
   "id": "2d53ae8d",
   "metadata": {},
   "outputs": [
    {
     "data": {
      "image/png": "[encoded data removed]",
      "text/plain": [
       "<Figure size 432x288 with 1 Axes>"
      ]
     },
     "metadata": {
      "needs_background": "light"
     },
     "output_type": "display_data"
    },
    {
     "data": {
      "image/png": "[encoded data removed]",
      "text/plain": [
       "<Figure size 432x288 with 1 Axes>"
      ]
     },
     "metadata": {
      "needs_background": "light"
     },
     "output_type": "display_data"
    },
    {
     "data": {
      "image/png": "[encoded data removed]",
      "text/plain": [
       "<Figure size 432x288 with 1 Axes>"
      ]
     },
     "metadata": {
      "needs_background": "light"
     },
     "output_type": "display_data"
    },
    {
     "data": {
      "image/png": "[encoded data removed]",
      "text/plain": [
       "<Figure size 432x288 with 1 Axes>"
      ]
     },
     "metadata": {
      "needs_background": "light"
     },
     "output_type": "display_data"
    },
    {
     "data": {
      "image/png": "[encoded data removed]",
      "text/plain": [
       "<Figure size 432x288 with 1 Axes>"
      ]
     },
     "metadata": {
      "needs_background": "light"
     },
     "output_type": "display_data"
    }
   ],
   "source": [
    "## checking distribution for balance columns\n",
    "balance_col = data[['average_balance', 'q1_balance', 'q2_balance', 'q3_balance', 'q4_balance']]\n",
    "\n",
    "for col in balance_col.columns:\n",
    "    sns.distplot(balance_col[col])\n",
    "    plt.show()"
   ]
  },
  {
   "cell_type": "markdown",
   "id": "0cd7ea5e",
   "metadata": {},
   "source": [
    "We note that the average, q2 & q3 balances have relatively normal distributions so we decided to fill nulls with mean, where q1 and q4 are skewed so it is better to use median for nulls.\n",
    "\n"
   ]
  },
  {
   "cell_type": "code",
   "execution_count": 44,
   "id": "dc40f88c",
   "metadata": {},
   "outputs": [],
   "source": [
    "## Function to fill null values in a column with the mean of the column\n",
    "def fill_nulls_with_mean(data, col):\n",
    "    \n",
    "    mean_val = data[col].mean(skipna=True)\n",
    "    \n",
    "    data[col].fillna(value=mean_val, inplace=True)\n",
    "    \n",
    "    return data"
   ]
  },
  {
   "cell_type": "code",
   "execution_count": null,
   "id": "1ba39742",
   "metadata": {},
   "outputs": [],
   "source": [
    "## applying function and checking for null"
   ]
  },
  {
   "cell_type": "code",
   "execution_count": 42,
   "id": "e3d73511",
   "metadata": {},
   "outputs": [
    {
     "data": {
      "text/plain": [
       "0"
      ]
     },
     "execution_count": 42,
     "metadata": {},
     "output_type": "execute_result"
    }
   ],
   "source": [
    "fill_nulls_with_mean(data, 'average_balance')\n",
    "data['average_balance'].isna().sum()"
   ]
  },
  {
   "cell_type": "code",
   "execution_count": 47,
   "id": "f1666b23",
   "metadata": {},
   "outputs": [
    {
     "data": {
      "text/plain": [
       "0"
      ]
     },
     "execution_count": 47,
     "metadata": {},
     "output_type": "execute_result"
    }
   ],
   "source": [
    "fill_nulls_with_mean(data, 'q2_balance')\n",
    "data['q2_balance'].isna().sum()"
   ]
  },
  {
   "cell_type": "code",
   "execution_count": 48,
   "id": "a4d2a4bf",
   "metadata": {},
   "outputs": [
    {
     "data": {
      "text/plain": [
       "0"
      ]
     },
     "execution_count": 48,
     "metadata": {},
     "output_type": "execute_result"
    }
   ],
   "source": [
    "fill_nulls_with_mean(data, 'q3_balance')\n",
    "data['q3_balance'].isna().sum()"
   ]
  },
  {
   "cell_type": "code",
   "execution_count": 50,
   "id": "8f7cfaa3",
   "metadata": {},
   "outputs": [],
   "source": [
    "##  Function to fill null values in a column with the median value\n",
    "def fill_nulls_with_median(df, col):\n",
    "\n",
    "    median = df[col].median()  \n",
    "    \n",
    "    df[col] = df[col].fillna(median)\n",
    "    \n",
    "    return df"
   ]
  },
  {
   "cell_type": "code",
   "execution_count": 52,
   "id": "afd597d6",
   "metadata": {},
   "outputs": [
    {
     "data": {
      "text/plain": [
       "0"
      ]
     },
     "execution_count": 52,
     "metadata": {},
     "output_type": "execute_result"
    }
   ],
   "source": [
    "fill_nulls_with_median(data, 'q4_balance')\n",
    "data['q4_balance'].isna().sum()"
   ]
  },
  {
   "cell_type": "code",
   "execution_count": 53,
   "id": "a84c345a",
   "metadata": {},
   "outputs": [
    {
     "data": {
      "text/plain": [
       "0"
      ]
     },
     "execution_count": 53,
     "metadata": {},
     "output_type": "execute_result"
    }
   ],
   "source": [
    "fill_nulls_with_median(data, 'q1_balance')\n",
    "data['q1_balance'].isna().sum()"
   ]
  },
  {
   "cell_type": "markdown",
   "id": "5ddffc9b",
   "metadata": {},
   "source": [
    "### EDA"
   ]
  },
  {
   "cell_type": "markdown",
   "id": "55345438",
   "metadata": {},
   "source": [
    "#### Categorical and discrete numerical columns"
   ]
  },
  {
   "cell_type": "code",
   "execution_count": 62,
   "id": "ca0ad9b3",
   "metadata": {},
   "outputs": [],
   "source": [
    "# Split data into numericals and categoricals\n",
    "\n",
    "numericals  = data.select_dtypes(np.number)\n",
    "categoricals = data.select_dtypes(np.object)"
   ]
  },
  {
   "cell_type": "code",
   "execution_count": 70,
   "id": "e658a919",
   "metadata": {},
   "outputs": [
    {
     "data": {
      "image/png": "[encoded data removed]",
      "text/plain": [
       "<Figure size 432x288 with 1 Axes>"
      ]
     },
     "metadata": {
      "needs_background": "light"
     },
     "output_type": "display_data"
    },
    {
     "data": {
      "image/png": "[encoded data removed]",
      "text/plain": [
       "<Figure size 432x288 with 1 Axes>"
      ]
     },
     "metadata": {
      "needs_background": "light"
     },
     "output_type": "display_data"
    },
    {
     "data": {
      "image/png": "[encoded data removed]",
      "text/plain": [
       "<Figure size 432x288 with 1 Axes>"
      ]
     },
     "metadata": {
      "needs_background": "light"
     },
     "output_type": "display_data"
    },
    {
     "data": {
      "image/png": "[encoded data removed]",
      "text/plain": [
       "<Figure size 432x288 with 1 Axes>"
      ]
     },
     "metadata": {
      "needs_background": "light"
     },
     "output_type": "display_data"
    },
    {
     "data": {
      "image/png": "[encoded data removed]",
      "text/plain": [
       "<Figure size 432x288 with 1 Axes>"
      ]
     },
     "metadata": {
      "needs_background": "light"
     },
     "output_type": "display_data"
    },
    {
     "data": {
      "image/png": "[encoded data removed]",
      "text/plain": [
       "<Figure size 432x288 with 1 Axes>"
      ]
     },
     "metadata": {
      "needs_background": "light"
     },
     "output_type": "display_data"
    },
    {
     "data": {
      "image/png": "[encoded data removed]",
      "text/plain": [
       "<Figure size 432x288 with 1 Axes>"
      ]
     },
     "metadata": {
      "needs_background": "light"
     },
     "output_type": "display_data"
    }
   ],
   "source": [
    "# creating countplots for all categorical data\n",
    "for col in categoricals:\n",
    "    sns.countplot(data=categoricals, x=col)\n",
    "    plt.show()"
   ]
  },
  {
   "cell_type": "markdown",
   "id": "46089771",
   "metadata": {},
   "source": [
    "We notice that the offer_accepted(target), overdraft_protection, and home_owner are imbalanced."
   ]
  },
  {
   "cell_type": "code",
   "execution_count": 71,
   "id": "f27a1452",
   "metadata": {},
   "outputs": [
    {
     "data": {
      "image/png": "[encoded data removed]",
      "text/plain": [
       "<Figure size 432x288 with 1 Axes>"
      ]
     },
     "metadata": {
      "needs_background": "light"
     },
     "output_type": "display_data"
    },
    {
     "data": {
      "image/png": "[encoded data removed]",
      "text/plain": [
       "<Figure size 432x288 with 1 Axes>"
      ]
     },
     "metadata": {
      "needs_background": "light"
     },
     "output_type": "display_data"
    },
    {
     "data": {
      "image/png": "[encoded data removed]",
      "text/plain": [
       "<Figure size 432x288 with 1 Axes>"
      ]
     },
     "metadata": {
      "needs_background": "light"
     },
     "output_type": "display_data"
    },
    {
     "data": {
      "image/png": "[encoded data removed]",
      "text/plain": [
       "<Figure size 432x288 with 1 Axes>"
      ]
     },
     "metadata": {
      "needs_background": "light"
     },
     "output_type": "display_data"
    }
   ],
   "source": [
    "# creating countplots for all discrete data\n",
    "for col in num_disc:\n",
    "    sns.countplot(data=num_disc, x=col)\n",
    "    plt.show()"
   ]
  },
  {
   "cell_type": "markdown",
   "id": "a2ad1192",
   "metadata": {},
   "source": [
    "From plotting discrete data we can see that customers:\n",
    "  \n",
    "-opened more than 2 accounts\n",
    "-have 4 credit cards\n",
    "-living in the households with 8 or 9 people\n",
    "-own 3 houses"
   ]
  },
  {
   "cell_type": "code",
   "execution_count": 73,
   "id": "d87b7a45",
   "metadata": {},
   "outputs": [
    {
     "data": {
      "image/png": "[encoded data removed]",
      "text/plain": [
       "<Figure size 432x288 with 1 Axes>"
      ]
     },
     "metadata": {
      "needs_background": "light"
     },
     "output_type": "display_data"
    },
    {
     "data": {
      "image/png": "[encoded data removed]",
      "text/plain": [
       "<Figure size 432x288 with 1 Axes>"
      ]
     },
     "metadata": {
      "needs_background": "light"
     },
     "output_type": "display_data"
    },
    {
     "data": {
      "image/png": "[encoded data removed]",
      "text/plain": [
       "<Figure size 432x288 with 1 Axes>"
      ]
     },
     "metadata": {
      "needs_background": "light"
     },
     "output_type": "display_data"
    },
    {
     "data": {
      "image/png": "[encoded data removed]",
      "text/plain": [
       "<Figure size 432x288 with 1 Axes>"
      ]
     },
     "metadata": {
      "needs_background": "light"
     },
     "output_type": "display_data"
    },
    {
     "data": {
      "image/png": "[encoded data removed]",
      "text/plain": [
       "<Figure size 432x288 with 1 Axes>"
      ]
     },
     "metadata": {
      "needs_background": "light"
     },
     "output_type": "display_data"
    }
   ],
   "source": [
    "# Cheking distribution for continuous\n",
    "for col in num_cont:\n",
    "    sns.distplot(data=num_cont, x=col)\n",
    "    plt.show()"
   ]
  },
  {
   "cell_type": "markdown",
   "id": "6a8571f3",
   "metadata": {},
   "source": [
    "Average, q2 and q3 balances have relatively normal distributions but q1 and q4 are not normally distributed.\n",
    "\n",
    "We can also check is there any correalation in numerical data:"
   ]
  },
  {
   "cell_type": "code",
   "execution_count": 76,
   "id": "fd9360a8",
   "metadata": {},
   "outputs": [
    {
     "data": {
      "text/plain": [
       "<AxesSubplot:>"
      ]
     },
     "execution_count": 76,
     "metadata": {},
     "output_type": "execute_result"
    },
    {
     "data": {
      "image/png": "[encoded data removed]",
      "text/plain": [
       "<Figure size 432x288 with 2 Axes>"
      ]
     },
     "metadata": {
      "needs_background": "light"
     },
     "output_type": "display_data"
    }
   ],
   "source": [
    "corr_matrix = numericals.corr()\n",
    "sns.heatmap(corr_matrix, annot=True)"
   ]
  },
  {
   "cell_type": "code",
   "execution_count": 111,
   "id": "452ef61e",
   "metadata": {},
   "outputs": [
    {
     "data": {
      "text/plain": [
       "1160.75"
      ]
     },
     "execution_count": 111,
     "metadata": {},
     "output_type": "execute_result"
    }
   ],
   "source": [
    "# checking does average_balance represent average of all other balance columns\n",
    "(data['q1_balance'][0]+data['q2_balance'][0]+data['q3_balance'][0]+data['q4_balance'][0])/4"
   ]
  },
  {
   "cell_type": "markdown",
   "id": "6301a0b4",
   "metadata": {},
   "source": [
    "How we expected, there is high to moderate correlation between balance columns. In the future modeling we might use only average_balance.\n",
    "\n",
    "We can check how our target is correlated with other columns:"
   ]
  },
  {
   "cell_type": "code",
   "execution_count": 81,
   "id": "442b3df5",
   "metadata": {},
   "outputs": [
    {
     "data": {
      "text/html": [
       "<div>\n",
       "<style scoped>\n",
       "    .dataframe tbody tr th:only-of-type {\n",
       "        vertical-align: middle;\n",
       "    }\n",
       "\n",
       "    .dataframe tbody tr th {\n",
       "        vertical-align: top;\n",
       "    }\n",
       "\n",
       "    .dataframe thead th {\n",
       "        text-align: right;\n",
       "    }\n",
       "</style>\n",
       "<table border=\"1\" class=\"dataframe\">\n",
       "  <thead>\n",
       "    <tr style=\"text-align: right;\">\n",
       "      <th></th>\n",
       "      <th>bank_accounts_open</th>\n",
       "      <th>credit_cards_held</th>\n",
       "      <th>homes_owned</th>\n",
       "      <th>household_size</th>\n",
       "      <th>average_balance</th>\n",
       "      <th>q1_balance</th>\n",
       "      <th>q2_balance</th>\n",
       "      <th>q3_balance</th>\n",
       "      <th>q4_balance</th>\n",
       "    </tr>\n",
       "  </thead>\n",
       "  <tbody>\n",
       "    <tr>\n",
       "      <th>0</th>\n",
       "      <td>1</td>\n",
       "      <td>2</td>\n",
       "      <td>1</td>\n",
       "      <td>4</td>\n",
       "      <td>1160.75</td>\n",
       "      <td>1669.0</td>\n",
       "      <td>877.0</td>\n",
       "      <td>1095.0</td>\n",
       "      <td>1002.0</td>\n",
       "    </tr>\n",
       "    <tr>\n",
       "      <th>1</th>\n",
       "      <td>1</td>\n",
       "      <td>2</td>\n",
       "      <td>2</td>\n",
       "      <td>5</td>\n",
       "      <td>147.25</td>\n",
       "      <td>39.0</td>\n",
       "      <td>106.0</td>\n",
       "      <td>78.0</td>\n",
       "      <td>366.0</td>\n",
       "    </tr>\n",
       "    <tr>\n",
       "      <th>2</th>\n",
       "      <td>2</td>\n",
       "      <td>2</td>\n",
       "      <td>1</td>\n",
       "      <td>2</td>\n",
       "      <td>276.50</td>\n",
       "      <td>367.0</td>\n",
       "      <td>352.0</td>\n",
       "      <td>145.0</td>\n",
       "      <td>242.0</td>\n",
       "    </tr>\n",
       "    <tr>\n",
       "      <th>3</th>\n",
       "      <td>2</td>\n",
       "      <td>1</td>\n",
       "      <td>1</td>\n",
       "      <td>4</td>\n",
       "      <td>1219.00</td>\n",
       "      <td>1578.0</td>\n",
       "      <td>1760.0</td>\n",
       "      <td>1119.0</td>\n",
       "      <td>419.0</td>\n",
       "    </tr>\n",
       "    <tr>\n",
       "      <th>4</th>\n",
       "      <td>1</td>\n",
       "      <td>2</td>\n",
       "      <td>1</td>\n",
       "      <td>6</td>\n",
       "      <td>1211.00</td>\n",
       "      <td>2140.0</td>\n",
       "      <td>1357.0</td>\n",
       "      <td>982.0</td>\n",
       "      <td>365.0</td>\n",
       "    </tr>\n",
       "  </tbody>\n",
       "</table>\n",
       "</div>"
      ],
      "text/plain": [
       "   bank_accounts_open  credit_cards_held  homes_owned  household_size  \\\n",
       "0                   1                  2            1               4   \n",
       "1                   1                  2            2               5   \n",
       "2                   2                  2            1               2   \n",
       "3                   2                  1            1               4   \n",
       "4                   1                  2            1               6   \n",
       "\n",
       "   average_balance  q1_balance  q2_balance  q3_balance  q4_balance  \n",
       "0          1160.75      1669.0       877.0      1095.0      1002.0  \n",
       "1           147.25        39.0       106.0        78.0       366.0  \n",
       "2           276.50       367.0       352.0       145.0       242.0  \n",
       "3          1219.00      1578.0      1760.0      1119.0       419.0  \n",
       "4          1211.00      2140.0      1357.0       982.0       365.0  "
      ]
     },
     "execution_count": 81,
     "metadata": {},
     "output_type": "execute_result"
    }
   ],
   "source": [
    "numericals.head()"
   ]
  },
  {
   "cell_type": "code",
   "execution_count": 85,
   "id": "c53fa28d",
   "metadata": {},
   "outputs": [
    {
     "name": "stdout",
     "output_type": "stream",
     "text": [
      "household_size    1     2     3     4     5    6  8  9\n",
      "offer_accepted                                        \n",
      "No              496  2662  5367  5232  2708  511  1  0\n",
      "Yes              43   151   345   311   145   27  0  1\n"
     ]
    }
   ],
   "source": [
    "offer_hh = pd.crosstab(data['offer_accepted'], data['household_size'])\n",
    "print(offer_hh)"
   ]
  },
  {
   "cell_type": "code",
   "execution_count": 82,
   "id": "dcb0770c",
   "metadata": {},
   "outputs": [
    {
     "name": "stdout",
     "output_type": "stream",
     "text": [
      "bank_accounts_open      1     2    3\n",
      "offer_accepted                      \n",
      "No                  12916  3778  283\n",
      "Yes                   776   234   13\n"
     ]
    }
   ],
   "source": [
    "offer_acc_open = pd.crosstab(data['offer_accepted'], data['bank_accounts_open'])\n",
    "print(offer_acc_open)"
   ]
  },
  {
   "cell_type": "code",
   "execution_count": 84,
   "id": "1bc54262",
   "metadata": {},
   "outputs": [
    {
     "name": "stdout",
     "output_type": "stream",
     "text": [
      "credit_rating   High   Low  Medium\n",
      "offer_accepted                    \n",
      "No              5952  5324    5701\n",
      "Yes              119   633     271\n"
     ]
    }
   ],
   "source": [
    "offer_credit_rating = pd.crosstab(data['offer_accepted'], data['credit_rating'])\n",
    "print(offer_credit_rating)"
   ]
  },
  {
   "cell_type": "markdown",
   "id": "1c0c7ed5",
   "metadata": {},
   "source": [
    "Here we can see that mostly customers who have  credit rating below high accepted the offer.\n",
    "\n",
    "We can check does balance is related to decision either customer accepted or reject offer:"
   ]
  },
  {
   "cell_type": "code",
   "execution_count": 87,
   "id": "6b361e23",
   "metadata": {},
   "outputs": [
    {
     "name": "stdout",
     "output_type": "stream",
     "text": [
      "offer_accepted\n",
      "No     940.848462\n",
      "Yes    934.990988\n",
      "Name: average_balance, dtype: float64\n"
     ]
    }
   ],
   "source": [
    "# calculate mean value of average_balance for each value of offer_accepted\n",
    "grouped = data.groupby('offer_accepted')['average_balance'].mean()\n",
    "\n",
    "print(grouped)"
   ]
  },
  {
   "cell_type": "markdown",
   "id": "13e2b110",
   "metadata": {},
   "source": [
    "Cheking the possible correlation between categorical variables:"
   ]
  },
  {
   "cell_type": "code",
   "execution_count": 89,
   "id": "fc96f5f1",
   "metadata": {},
   "outputs": [
    {
     "data": {
      "text/html": [
       "<div>\n",
       "<style scoped>\n",
       "    .dataframe tbody tr th:only-of-type {\n",
       "        vertical-align: middle;\n",
       "    }\n",
       "\n",
       "    .dataframe tbody tr th {\n",
       "        vertical-align: top;\n",
       "    }\n",
       "\n",
       "    .dataframe thead th {\n",
       "        text-align: right;\n",
       "    }\n",
       "</style>\n",
       "<table border=\"1\" class=\"dataframe\">\n",
       "  <thead>\n",
       "    <tr style=\"text-align: right;\">\n",
       "      <th></th>\n",
       "      <th>offer_accepted</th>\n",
       "      <th>reward</th>\n",
       "      <th>mailer_type</th>\n",
       "      <th>income_level</th>\n",
       "      <th>overdraft_protection</th>\n",
       "      <th>credit_rating</th>\n",
       "      <th>own_your_home</th>\n",
       "    </tr>\n",
       "  </thead>\n",
       "  <tbody>\n",
       "    <tr>\n",
       "      <th>0</th>\n",
       "      <td>No</td>\n",
       "      <td>Air Miles</td>\n",
       "      <td>Letter</td>\n",
       "      <td>High</td>\n",
       "      <td>No</td>\n",
       "      <td>High</td>\n",
       "      <td>No</td>\n",
       "    </tr>\n",
       "    <tr>\n",
       "      <th>1</th>\n",
       "      <td>No</td>\n",
       "      <td>Air Miles</td>\n",
       "      <td>Letter</td>\n",
       "      <td>Medium</td>\n",
       "      <td>No</td>\n",
       "      <td>Medium</td>\n",
       "      <td>Yes</td>\n",
       "    </tr>\n",
       "    <tr>\n",
       "      <th>2</th>\n",
       "      <td>No</td>\n",
       "      <td>Air Miles</td>\n",
       "      <td>Postcard</td>\n",
       "      <td>High</td>\n",
       "      <td>No</td>\n",
       "      <td>Medium</td>\n",
       "      <td>Yes</td>\n",
       "    </tr>\n",
       "    <tr>\n",
       "      <th>3</th>\n",
       "      <td>No</td>\n",
       "      <td>Air Miles</td>\n",
       "      <td>Letter</td>\n",
       "      <td>Medium</td>\n",
       "      <td>No</td>\n",
       "      <td>High</td>\n",
       "      <td>No</td>\n",
       "    </tr>\n",
       "    <tr>\n",
       "      <th>4</th>\n",
       "      <td>No</td>\n",
       "      <td>Air Miles</td>\n",
       "      <td>Letter</td>\n",
       "      <td>Medium</td>\n",
       "      <td>No</td>\n",
       "      <td>Medium</td>\n",
       "      <td>Yes</td>\n",
       "    </tr>\n",
       "  </tbody>\n",
       "</table>\n",
       "</div>"
      ],
      "text/plain": [
       "  offer_accepted     reward mailer_type income_level overdraft_protection  \\\n",
       "0             No  Air Miles      Letter         High                   No   \n",
       "1             No  Air Miles      Letter       Medium                   No   \n",
       "2             No  Air Miles    Postcard         High                   No   \n",
       "3             No  Air Miles      Letter       Medium                   No   \n",
       "4             No  Air Miles      Letter       Medium                   No   \n",
       "\n",
       "  credit_rating own_your_home  \n",
       "0          High            No  \n",
       "1        Medium           Yes  \n",
       "2        Medium           Yes  \n",
       "3          High            No  \n",
       "4        Medium           Yes  "
      ]
     },
     "execution_count": 89,
     "metadata": {},
     "output_type": "execute_result"
    }
   ],
   "source": [
    "categoricals.head()"
   ]
  },
  {
   "cell_type": "code",
   "execution_count": 103,
   "id": "e3511149",
   "metadata": {},
   "outputs": [
    {
     "name": "stdout",
     "output_type": "stream",
     "text": [
      "0.5394378509869674\n"
     ]
    }
   ],
   "source": [
    "income_rating = pd.crosstab(data['income_level'], data['credit_rating'])\n",
    "chiSqResult = chi2_contingency(income_rating)\n",
    "print(chiSqResult[1])"
   ]
  },
  {
   "cell_type": "code",
   "execution_count": 104,
   "id": "2bdee0c5",
   "metadata": {},
   "outputs": [
    {
     "name": "stdout",
     "output_type": "stream",
     "text": [
      "0.34474354539171537\n"
     ]
    }
   ],
   "source": [
    "income_own_home = pd.crosstab(data['income_level'], data['own_your_home'])\n",
    "chiSqResult = chi2_contingency(income_own_home)\n",
    "print(chiSqResult[1])"
   ]
  },
  {
   "cell_type": "code",
   "execution_count": 105,
   "id": "43a228e0",
   "metadata": {},
   "outputs": [
    {
     "name": "stdout",
     "output_type": "stream",
     "text": [
      "0.7176965316712962\n"
     ]
    }
   ],
   "source": [
    "mailer_protection = pd.crosstab(data['mailer_type'], data['overdraft_protection'])\n",
    "chiSqResult = chi2_contingency(mailer_protection)\n",
    "print(chiSqResult[1])"
   ]
  },
  {
   "cell_type": "markdown",
   "id": "b0b5d050",
   "metadata": {},
   "source": [
    "From the examples above we can see that there is no correlation between variables."
   ]
  },
  {
   "cell_type": "code",
   "execution_count": 107,
   "id": "1d2ee2a1",
   "metadata": {},
   "outputs": [],
   "source": [
    "# Save clean dataframe to a new  file to be used in further analysis\n",
    "data.to_csv('clean_creditcardmarketing.csv')"
   ]
  }
 ],
 "metadata": {
  "kernelspec": {
   "display_name": "Python 3 (ipykernel)",
   "language": "python",
   "name": "python3"
  },
  "language_info": {
   "codemirror_mode": {
    "name": "ipython",
    "version": 3
   },
   "file_extension": ".py",
   "mimetype": "text/x-python",
   "name": "python",
   "nbconvert_exporter": "python",
   "pygments_lexer": "ipython3",
   "version": "3.9.12"
  }
 },
 "nbformat": 4,
 "nbformat_minor": 5
}
