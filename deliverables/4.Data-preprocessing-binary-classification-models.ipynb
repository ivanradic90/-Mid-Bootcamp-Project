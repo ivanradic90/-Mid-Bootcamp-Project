{
 "cells": [
  {
   "cell_type": "code",
   "execution_count": 29,
   "id": "d6679c3c",
   "metadata": {},
   "outputs": [],
   "source": [
    "# import libraries\n",
    "import pandas as pd\n",
    "import numpy as np\n",
    "import matplotlib.pyplot as plt\n",
    "import seaborn as sns\n",
    "from sklearn.preprocessing import OneHotEncoder, StandardScaler, Normalizer, LabelEncoder, MinMaxScaler\n",
    "\n",
    "from sklearn.model_selection import train_test_split\n",
    "from sklearn.linear_model import LogisticRegression\n",
    "from sklearn.metrics import confusion_matrix\n",
    "from sklearn.neighbors import KNeighborsClassifier\n",
    "from sklearn.tree import DecisionTreeClassifier\n",
    "from imblearn.over_sampling import SMOTE\n",
    "from scipy.stats import boxcox\n",
    "from sklearn.metrics import accuracy_score, confusion_matrix\n",
    "from sklearn.metrics import roc_auc_score\n",
    "\n",
    "import warnings\n",
    "warnings.filterwarnings('ignore')\n",
    "warnings.filterwarnings(\"ignore\", message=\"numpy.ufunc size changed\")\n",
    "pd.set_option('display.max_columns', None)\n",
    "pd.set_option('display.max_rows', None)"
   ]
  },
  {
   "cell_type": "code",
   "execution_count": 3,
   "id": "f53b0948",
   "metadata": {},
   "outputs": [
    {
     "data": {
      "text/html": [
       "<div>\n",
       "<style scoped>\n",
       "    .dataframe tbody tr th:only-of-type {\n",
       "        vertical-align: middle;\n",
       "    }\n",
       "\n",
       "    .dataframe tbody tr th {\n",
       "        vertical-align: top;\n",
       "    }\n",
       "\n",
       "    .dataframe thead th {\n",
       "        text-align: right;\n",
       "    }\n",
       "</style>\n",
       "<table border=\"1\" class=\"dataframe\">\n",
       "  <thead>\n",
       "    <tr style=\"text-align: right;\">\n",
       "      <th></th>\n",
       "      <th>Unnamed: 0</th>\n",
       "      <th>offer_accepted</th>\n",
       "      <th>reward</th>\n",
       "      <th>mailer_type</th>\n",
       "      <th>income_level</th>\n",
       "      <th>bank_accounts_open</th>\n",
       "      <th>overdraft_protection</th>\n",
       "      <th>credit_rating</th>\n",
       "      <th>credit_cards_held</th>\n",
       "      <th>homes_owned</th>\n",
       "      <th>household_size</th>\n",
       "      <th>own_your_home</th>\n",
       "      <th>average_balance</th>\n",
       "      <th>q1_balance</th>\n",
       "      <th>q2_balance</th>\n",
       "      <th>q3_balance</th>\n",
       "      <th>q4_balance</th>\n",
       "    </tr>\n",
       "  </thead>\n",
       "  <tbody>\n",
       "    <tr>\n",
       "      <th>0</th>\n",
       "      <td>0</td>\n",
       "      <td>No</td>\n",
       "      <td>Air Miles</td>\n",
       "      <td>Letter</td>\n",
       "      <td>High</td>\n",
       "      <td>1</td>\n",
       "      <td>No</td>\n",
       "      <td>High</td>\n",
       "      <td>2</td>\n",
       "      <td>1</td>\n",
       "      <td>4</td>\n",
       "      <td>No</td>\n",
       "      <td>1160.75</td>\n",
       "      <td>1669.0</td>\n",
       "      <td>877.0</td>\n",
       "      <td>1095.0</td>\n",
       "      <td>1002.0</td>\n",
       "    </tr>\n",
       "    <tr>\n",
       "      <th>1</th>\n",
       "      <td>1</td>\n",
       "      <td>No</td>\n",
       "      <td>Air Miles</td>\n",
       "      <td>Letter</td>\n",
       "      <td>Medium</td>\n",
       "      <td>1</td>\n",
       "      <td>No</td>\n",
       "      <td>Medium</td>\n",
       "      <td>2</td>\n",
       "      <td>2</td>\n",
       "      <td>5</td>\n",
       "      <td>Yes</td>\n",
       "      <td>147.25</td>\n",
       "      <td>39.0</td>\n",
       "      <td>106.0</td>\n",
       "      <td>78.0</td>\n",
       "      <td>366.0</td>\n",
       "    </tr>\n",
       "    <tr>\n",
       "      <th>2</th>\n",
       "      <td>2</td>\n",
       "      <td>No</td>\n",
       "      <td>Air Miles</td>\n",
       "      <td>Postcard</td>\n",
       "      <td>High</td>\n",
       "      <td>2</td>\n",
       "      <td>No</td>\n",
       "      <td>Medium</td>\n",
       "      <td>2</td>\n",
       "      <td>1</td>\n",
       "      <td>2</td>\n",
       "      <td>Yes</td>\n",
       "      <td>276.50</td>\n",
       "      <td>367.0</td>\n",
       "      <td>352.0</td>\n",
       "      <td>145.0</td>\n",
       "      <td>242.0</td>\n",
       "    </tr>\n",
       "    <tr>\n",
       "      <th>3</th>\n",
       "      <td>3</td>\n",
       "      <td>No</td>\n",
       "      <td>Air Miles</td>\n",
       "      <td>Letter</td>\n",
       "      <td>Medium</td>\n",
       "      <td>2</td>\n",
       "      <td>No</td>\n",
       "      <td>High</td>\n",
       "      <td>1</td>\n",
       "      <td>1</td>\n",
       "      <td>4</td>\n",
       "      <td>No</td>\n",
       "      <td>1219.00</td>\n",
       "      <td>1578.0</td>\n",
       "      <td>1760.0</td>\n",
       "      <td>1119.0</td>\n",
       "      <td>419.0</td>\n",
       "    </tr>\n",
       "    <tr>\n",
       "      <th>4</th>\n",
       "      <td>4</td>\n",
       "      <td>No</td>\n",
       "      <td>Air Miles</td>\n",
       "      <td>Letter</td>\n",
       "      <td>Medium</td>\n",
       "      <td>1</td>\n",
       "      <td>No</td>\n",
       "      <td>Medium</td>\n",
       "      <td>2</td>\n",
       "      <td>1</td>\n",
       "      <td>6</td>\n",
       "      <td>Yes</td>\n",
       "      <td>1211.00</td>\n",
       "      <td>2140.0</td>\n",
       "      <td>1357.0</td>\n",
       "      <td>982.0</td>\n",
       "      <td>365.0</td>\n",
       "    </tr>\n",
       "  </tbody>\n",
       "</table>\n",
       "</div>"
      ],
      "text/plain": [
       "   Unnamed: 0 offer_accepted     reward mailer_type income_level  \\\n",
       "0           0             No  Air Miles      Letter         High   \n",
       "1           1             No  Air Miles      Letter       Medium   \n",
       "2           2             No  Air Miles    Postcard         High   \n",
       "3           3             No  Air Miles      Letter       Medium   \n",
       "4           4             No  Air Miles      Letter       Medium   \n",
       "\n",
       "   bank_accounts_open overdraft_protection credit_rating  credit_cards_held  \\\n",
       "0                   1                   No          High                  2   \n",
       "1                   1                   No        Medium                  2   \n",
       "2                   2                   No        Medium                  2   \n",
       "3                   2                   No          High                  1   \n",
       "4                   1                   No        Medium                  2   \n",
       "\n",
       "   homes_owned  household_size own_your_home  average_balance  q1_balance  \\\n",
       "0            1               4            No          1160.75      1669.0   \n",
       "1            2               5           Yes           147.25        39.0   \n",
       "2            1               2           Yes           276.50       367.0   \n",
       "3            1               4            No          1219.00      1578.0   \n",
       "4            1               6           Yes          1211.00      2140.0   \n",
       "\n",
       "   q2_balance  q3_balance  q4_balance  \n",
       "0       877.0      1095.0      1002.0  \n",
       "1       106.0        78.0       366.0  \n",
       "2       352.0       145.0       242.0  \n",
       "3      1760.0      1119.0       419.0  \n",
       "4      1357.0       982.0       365.0  "
      ]
     },
     "execution_count": 3,
     "metadata": {},
     "output_type": "execute_result"
    }
   ],
   "source": [
    "# importing clean data\n",
    "\n",
    "data = pd.read_csv('C:/Users/ivanr/Downloads/clean_creditcardmarketing.csv')\n",
    "data.head()"
   ]
  },
  {
   "cell_type": "code",
   "execution_count": 4,
   "id": "8569b231",
   "metadata": {},
   "outputs": [
    {
     "data": {
      "text/plain": [
       "Index(['offer_accepted', 'reward', 'mailer_type', 'income_level',\n",
       "       'bank_accounts_open', 'overdraft_protection', 'credit_rating',\n",
       "       'credit_cards_held', 'homes_owned', 'household_size', 'own_your_home',\n",
       "       'average_balance', 'q1_balance', 'q2_balance', 'q3_balance',\n",
       "       'q4_balance'],\n",
       "      dtype='object')"
      ]
     },
     "execution_count": 4,
     "metadata": {},
     "output_type": "execute_result"
    }
   ],
   "source": [
    "# drop index column\n",
    "data = data.drop(['Unnamed: 0'], axis = 1)\n",
    "data.columns"
   ]
  },
  {
   "cell_type": "markdown",
   "id": "026d914f",
   "metadata": {},
   "source": [
    "## Modelling"
   ]
  },
  {
   "cell_type": "markdown",
   "id": "9fabc0bc",
   "metadata": {},
   "source": [
    "#### Removing outliers"
   ]
  },
  {
   "cell_type": "code",
   "execution_count": 5,
   "id": "6a93cac1",
   "metadata": {},
   "outputs": [],
   "source": [
    "## define a function to remove outliers on continuos data\n",
    "def remove_outliers(df, threshold=1.7):\n",
    "    numerical = df.select_dtypes(np.number)\n",
    "    columns = numerical.columns\n",
    "    for column in columns:\n",
    "        if len(df[column].unique()) < 100:\n",
    "            continue\n",
    "        else:\n",
    "            upper = np.percentile(df[column], 75)\n",
    "            lower = np.percentile(df[column], 25)\n",
    "            iqr = upper - lower\n",
    "            upper_limit = upper + threshold * iqr\n",
    "            lower_limit = lower - threshold * iqr\n",
    "            df = df[(df[column]>lower_limit) & (df[column]<upper_limit)]\n",
    "    return df"
   ]
  },
  {
   "cell_type": "code",
   "execution_count": 6,
   "id": "48b49cf4",
   "metadata": {},
   "outputs": [],
   "source": [
    "data = remove_outliers(data)"
   ]
  },
  {
   "cell_type": "code",
   "execution_count": 7,
   "id": "31cb250c",
   "metadata": {},
   "outputs": [],
   "source": [
    "data = data.reset_index(drop=True)"
   ]
  },
  {
   "cell_type": "code",
   "execution_count": 8,
   "id": "5bce815a",
   "metadata": {},
   "outputs": [
    {
     "data": {
      "text/plain": [
       "(17516, 16)"
      ]
     },
     "execution_count": 8,
     "metadata": {},
     "output_type": "execute_result"
    }
   ],
   "source": [
    "data.shape"
   ]
  },
  {
   "cell_type": "markdown",
   "id": "032bd46b",
   "metadata": {},
   "source": [
    "After testing threshold for finding IQR i decide to go with a 1.7 "
   ]
  },
  {
   "cell_type": "markdown",
   "id": "1ae66eb6",
   "metadata": {},
   "source": [
    "#### Transforming"
   ]
  },
  {
   "cell_type": "markdown",
   "id": "d1be975f",
   "metadata": {},
   "source": [
    "First, we will check distribution of continuous and decide do we need transformation for any of them."
   ]
  },
  {
   "cell_type": "code",
   "execution_count": 9,
   "id": "77762c79",
   "metadata": {},
   "outputs": [],
   "source": [
    "# extracting all balance columns to plot them  \n",
    "balance_cols = data.iloc[:, -5:]"
   ]
  },
  {
   "cell_type": "code",
   "execution_count": 10,
   "id": "01bf3ea0",
   "metadata": {},
   "outputs": [
    {
     "name": "stdout",
     "output_type": "stream",
     "text": [
      "average_balance\n"
     ]
    },
    {
     "data": {
      "image/png": "[encoded data removed]",
      "text/plain": [
       "<Figure size 432x288 with 1 Axes>"
      ]
     },
     "metadata": {
      "needs_background": "light"
     },
     "output_type": "display_data"
    },
    {
     "name": "stdout",
     "output_type": "stream",
     "text": [
      "q1_balance\n"
     ]
    },
    {
     "data": {
      "image/png": "[encoded data removed]",
      "text/plain": [
       "<Figure size 432x288 with 1 Axes>"
      ]
     },
     "metadata": {
      "needs_background": "light"
     },
     "output_type": "display_data"
    },
    {
     "name": "stdout",
     "output_type": "stream",
     "text": [
      "q2_balance\n"
     ]
    },
    {
     "data": {
      "image/png": "[encoded data removed]",
      "text/plain": [
       "<Figure size 432x288 with 1 Axes>"
      ]
     },
     "metadata": {
      "needs_background": "light"
     },
     "output_type": "display_data"
    },
    {
     "name": "stdout",
     "output_type": "stream",
     "text": [
      "q3_balance\n"
     ]
    },
    {
     "data": {
      "image/png": "[encoded data removed]",
      "text/plain": [
       "<Figure size 432x288 with 1 Axes>"
      ]
     },
     "metadata": {
      "needs_background": "light"
     },
     "output_type": "display_data"
    },
    {
     "name": "stdout",
     "output_type": "stream",
     "text": [
      "q4_balance\n"
     ]
    },
    {
     "data": {
      "image/png": "[encoded data removed]",
      "text/plain": [
       "<Figure size 432x288 with 1 Axes>"
      ]
     },
     "metadata": {
      "needs_background": "light"
     },
     "output_type": "display_data"
    }
   ],
   "source": [
    "# checking for distribution\n",
    "for numerical_col in balance_cols.columns:\n",
    "    print(numerical_col)\n",
    "    sns.distplot(data[numerical_col])\n",
    "    plt.show()"
   ]
  },
  {
   "cell_type": "markdown",
   "id": "46ec6eaa",
   "metadata": {},
   "source": [
    "We note that the average, Q2 & Q3 balances have relatively normal distributions, whereas the Q1 & Q4 balances generally tend to be on the lower side"
   ]
  },
  {
   "cell_type": "markdown",
   "id": "2ccd1eb3",
   "metadata": {},
   "source": [
    "Now we will analize and try different transformation on each column:"
   ]
  },
  {
   "cell_type": "code",
   "execution_count": 11,
   "id": "48073cfc",
   "metadata": {},
   "outputs": [],
   "source": [
    "#define function\n",
    "def log_transform(x):\n",
    "    if x<=0:\n",
    "        return 0\n",
    "    else:\n",
    "        return np.log(x)"
   ]
  },
  {
   "cell_type": "code",
   "execution_count": 12,
   "id": "4983ff34",
   "metadata": {},
   "outputs": [],
   "source": [
    "# square root transformation\n",
    "def sq_rt_transform(x):\n",
    "    if x<0:\n",
    "        return 0\n",
    "    else:\n",
    "        return x**0.5"
   ]
  },
  {
   "cell_type": "code",
   "execution_count": 13,
   "id": "2085c784",
   "metadata": {},
   "outputs": [],
   "source": [
    "# cube root transformation\n",
    "def cube_rt_transform(x):\n",
    "    if x<0:\n",
    "        return 0\n",
    "    else:\n",
    "        return x**0.333"
   ]
  },
  {
   "cell_type": "code",
   "execution_count": 14,
   "id": "49ca1d6f",
   "metadata": {},
   "outputs": [
    {
     "data": {
      "text/plain": [
       "<AxesSubplot:ylabel='Density'>"
      ]
     },
     "execution_count": 14,
     "metadata": {},
     "output_type": "execute_result"
    },
    {
     "data": {
      "image/png": "[encoded data removed]",
      "text/plain": [
       "<Figure size 432x288 with 1 Axes>"
      ]
     },
     "metadata": {
      "needs_background": "light"
     },
     "output_type": "display_data"
    }
   ],
   "source": [
    "temp = list(map(cube_rt_transform, data['q1_balance']))\n",
    "sns.distplot(temp)"
   ]
  },
  {
   "cell_type": "code",
   "execution_count": 15,
   "id": "849f5cc1",
   "metadata": {},
   "outputs": [
    {
     "ename": "ValueError",
     "evalue": "Data must be positive.",
     "output_type": "error",
     "traceback": [
      "\u001b[1;31m---------------------------------------------------------------------------\u001b[0m",
      "\u001b[1;31mValueError\u001b[0m                                Traceback (most recent call last)",
      "Input \u001b[1;32mIn [15]\u001b[0m, in \u001b[0;36m<cell line: 1>\u001b[1;34m()\u001b[0m\n\u001b[1;32m----> 1\u001b[0m temp \u001b[38;5;241m=\u001b[39m \u001b[43mboxcox\u001b[49m\u001b[43m(\u001b[49m\u001b[43mdata\u001b[49m\u001b[43m[\u001b[49m\u001b[38;5;124;43m'\u001b[39;49m\u001b[38;5;124;43mq1_balance\u001b[39;49m\u001b[38;5;124;43m'\u001b[39;49m\u001b[43m]\u001b[49m\u001b[43m)\u001b[49m[\u001b[38;5;241m0\u001b[39m]\n\u001b[0;32m      2\u001b[0m sns\u001b[38;5;241m.\u001b[39mdistplot(temp)\n",
      "File \u001b[1;32m~\\anaconda3\\lib\\site-packages\\scipy\\stats\\morestats.py:1064\u001b[0m, in \u001b[0;36mboxcox\u001b[1;34m(x, lmbda, alpha, optimizer)\u001b[0m\n\u001b[0;32m   1061\u001b[0m     \u001b[38;5;28;01mraise\u001b[39;00m \u001b[38;5;167;01mValueError\u001b[39;00m(\u001b[38;5;124m\"\u001b[39m\u001b[38;5;124mData must not be constant.\u001b[39m\u001b[38;5;124m\"\u001b[39m)\n\u001b[0;32m   1063\u001b[0m \u001b[38;5;28;01mif\u001b[39;00m np\u001b[38;5;241m.\u001b[39many(x \u001b[38;5;241m<\u001b[39m\u001b[38;5;241m=\u001b[39m \u001b[38;5;241m0\u001b[39m):\n\u001b[1;32m-> 1064\u001b[0m     \u001b[38;5;28;01mraise\u001b[39;00m \u001b[38;5;167;01mValueError\u001b[39;00m(\u001b[38;5;124m\"\u001b[39m\u001b[38;5;124mData must be positive.\u001b[39m\u001b[38;5;124m\"\u001b[39m)\n\u001b[0;32m   1066\u001b[0m \u001b[38;5;28;01mif\u001b[39;00m lmbda \u001b[38;5;129;01mis\u001b[39;00m \u001b[38;5;129;01mnot\u001b[39;00m \u001b[38;5;28;01mNone\u001b[39;00m:  \u001b[38;5;66;03m# single transformation\u001b[39;00m\n\u001b[0;32m   1067\u001b[0m     \u001b[38;5;28;01mreturn\u001b[39;00m special\u001b[38;5;241m.\u001b[39mboxcox(x, lmbda)\n",
      "\u001b[1;31mValueError\u001b[0m: Data must be positive."
     ]
    }
   ],
   "source": [
    "temp = boxcox(data['q1_balance'])[0]\n",
    "sns.distplot(temp)"
   ]
  },
  {
   "cell_type": "code",
   "execution_count": 16,
   "id": "8d5d716b",
   "metadata": {},
   "outputs": [
    {
     "data": {
      "text/plain": [
       "0.0"
      ]
     },
     "execution_count": 16,
     "metadata": {},
     "output_type": "execute_result"
    }
   ],
   "source": [
    "min(data['q1_balance'])"
   ]
  },
  {
   "cell_type": "markdown",
   "id": "8c8501dc",
   "metadata": {},
   "source": [
    "Since we have zero values in column we cannot do boxcox transformation.\n",
    "We will try to define function to fill zero values with smallest posibble positive number in column and then try to transform data."
   ]
  },
  {
   "cell_type": "code",
   "execution_count": 17,
   "id": "79e107bb",
   "metadata": {},
   "outputs": [],
   "source": [
    "def fill_zeros(df, column_name):\n",
    "    smallest_positive = df[df[column_name] > 0][column_name].min()\n",
    "    df[column_name] = df[column_name].replace(0, smallest_positive)"
   ]
  },
  {
   "cell_type": "code",
   "execution_count": 18,
   "id": "ef249c37",
   "metadata": {},
   "outputs": [],
   "source": [
    "fill_zeros(data, 'q1_balance')"
   ]
  },
  {
   "cell_type": "code",
   "execution_count": 19,
   "id": "dff5e716",
   "metadata": {},
   "outputs": [
    {
     "data": {
      "text/plain": [
       "1.0"
      ]
     },
     "execution_count": 19,
     "metadata": {},
     "output_type": "execute_result"
    }
   ],
   "source": [
    "min(data['q1_balance'])"
   ]
  },
  {
   "cell_type": "code",
   "execution_count": 20,
   "id": "39c362cd",
   "metadata": {},
   "outputs": [
    {
     "data": {
      "text/plain": [
       "<AxesSubplot:ylabel='Density'>"
      ]
     },
     "execution_count": 20,
     "metadata": {},
     "output_type": "execute_result"
    },
    {
     "data": {
      "image/png": "[encoded data removed]",
      "text/plain": [
       "<Figure size 432x288 with 1 Axes>"
      ]
     },
     "metadata": {
      "needs_background": "light"
     },
     "output_type": "display_data"
    }
   ],
   "source": [
    "temp_bc = boxcox(data['q1_balance'])[0]\n",
    "sns.distplot(temp)"
   ]
  },
  {
   "cell_type": "code",
   "execution_count": 21,
   "id": "ab34cf18",
   "metadata": {},
   "outputs": [
    {
     "data": {
      "text/plain": [
       "<AxesSubplot:ylabel='Density'>"
      ]
     },
     "execution_count": 21,
     "metadata": {},
     "output_type": "execute_result"
    },
    {
     "data": {
      "image/png": "[encoded data removed]",
      "text/plain": [
       "<Figure size 432x288 with 1 Axes>"
      ]
     },
     "metadata": {
      "needs_background": "light"
     },
     "output_type": "display_data"
    }
   ],
   "source": [
    "temp_sqrt = list(map(sq_rt_transform, data['q1_balance']))\n",
    "sns.distplot(temp)"
   ]
  },
  {
   "cell_type": "markdown",
   "id": "0304687f",
   "metadata": {},
   "source": [
    "After trying different transformations on q1 balance we decided to go with square root. "
   ]
  },
  {
   "cell_type": "code",
   "execution_count": 22,
   "id": "5f54ccd3",
   "metadata": {},
   "outputs": [],
   "source": [
    "data['q1_balance'] = list(map(sq_rt_transform, data['q1_balance']))"
   ]
  },
  {
   "cell_type": "code",
   "execution_count": 23,
   "id": "1041ee05",
   "metadata": {
    "scrolled": true
   },
   "outputs": [
    {
     "data": {
      "text/plain": [
       "<AxesSubplot:ylabel='Density'>"
      ]
     },
     "execution_count": 23,
     "metadata": {},
     "output_type": "execute_result"
    },
    {
     "data": {
      "image/png": "[encoded data removed]",
      "text/plain": [
       "<Figure size 432x288 with 1 Axes>"
      ]
     },
     "metadata": {
      "needs_background": "light"
     },
     "output_type": "display_data"
    }
   ],
   "source": [
    "temp = list(map(sq_rt_transform, data['q4_balance']))\n",
    "sns.distplot(temp)"
   ]
  },
  {
   "cell_type": "code",
   "execution_count": 24,
   "id": "6d7c06b8",
   "metadata": {},
   "outputs": [
    {
     "data": {
      "text/plain": [
       "<AxesSubplot:ylabel='Density'>"
      ]
     },
     "execution_count": 24,
     "metadata": {},
     "output_type": "execute_result"
    },
    {
     "data": {
      "image/png": "[encoded data removed]",
      "text/plain": [
       "<Figure size 432x288 with 1 Axes>"
      ]
     },
     "metadata": {
      "needs_background": "light"
     },
     "output_type": "display_data"
    }
   ],
   "source": [
    "temp = list(map(log_transform, data['q4_balance']))\n",
    "sns.distplot(temp)"
   ]
  },
  {
   "cell_type": "markdown",
   "id": "9e11f408",
   "metadata": {},
   "source": [
    "Square root transformation looks good on q4_balance so we will apply it to data."
   ]
  },
  {
   "cell_type": "code",
   "execution_count": 25,
   "id": "e6ea1ffb",
   "metadata": {},
   "outputs": [],
   "source": [
    "data['q4_balance'] = list(map(sq_rt_transform, data['q4_balance']))"
   ]
  },
  {
   "cell_type": "markdown",
   "id": "1e17a974",
   "metadata": {},
   "source": [
    "## Scaling and Encoding"
   ]
  },
  {
   "cell_type": "code",
   "execution_count": 26,
   "id": "ed541b8e",
   "metadata": {},
   "outputs": [],
   "source": [
    "def normalize_data(df):\n",
    "    num = df.select_dtypes(np.number)\n",
    "    transformer = MinMaxScaler().fit(num) \n",
    "    x_minmax = transformer.transform(num)\n",
    "    num_norm = pd.DataFrame(x_minmax, columns=num.columns, index=num.index)\n",
    "    return num_norm"
   ]
  },
  {
   "cell_type": "code",
   "execution_count": 27,
   "id": "72e81df6",
   "metadata": {},
   "outputs": [],
   "source": [
    "def encode_cat(df, target):\n",
    "    cat = df.select_dtypes(object)\n",
    "    y = cat[target]\n",
    "    cat.drop(target, axis=1, inplace=True)\n",
    "    cat = pd.get_dummies(cat, columns=cat.columns, drop_first=True)\n",
    "    cat = pd.concat([cat, y], axis=1)\n",
    "    return cat"
   ]
  },
  {
   "cell_type": "markdown",
   "id": "e7d6833b",
   "metadata": {},
   "source": [
    "Scaling, encoding and concatenate data excluding q balances"
   ]
  },
  {
   "cell_type": "code",
   "execution_count": 30,
   "id": "3de3294a",
   "metadata": {},
   "outputs": [],
   "source": [
    "data_1 = data.copy()\n",
    "\n",
    "# 1. drop quarterly balances\n",
    "to_drop = ['q1_balance', 'q2_balance', 'q3_balance', 'q4_balance']\n",
    "data_1.drop(to_drop, axis=1)\n",
    "\n",
    "# 2. scale numerical data\n",
    "num_norm_1 = normalize_data(data_1)\n",
    "\n",
    "# 3. encode categorical data\n",
    "cat_1 = encode_cat(data_1, 'offer_accepted')\n",
    "\n",
    "# 4. concat \n",
    "data_nq = pd.concat([num_norm_1, cat_1], axis = 1)\n"
   ]
  },
  {
   "cell_type": "code",
   "execution_count": null,
   "id": "55b3ecd5",
   "metadata": {},
   "outputs": [],
   "source": []
  },
  {
   "cell_type": "markdown",
   "id": "b611410c",
   "metadata": {},
   "source": [
    "Define evaluating functions"
   ]
  },
  {
   "cell_type": "code",
   "execution_count": 31,
   "id": "3635c320",
   "metadata": {},
   "outputs": [],
   "source": [
    "def evaluate_model(df, target, model, balance=None):\n",
    "    y = df[target]\n",
    "    X = df.drop(target, axis=1)\n",
    "    X_train, X_test, y_train, y_test = train_test_split(X, y, test_size=0.2, random_state=8)\n",
    "    \n",
    "    if balance == 'smote':\n",
    "        smote = SMOTE()\n",
    "        X_train, y_train = smote.fit_resample(X_train, y_train)\n",
    "    \n",
    "    model.fit(X_train, y_train)\n",
    "    y_pred = model.predict(X_test)\n",
    "    \n",
    "    acc = accuracy_score(y_test, y_pred)\n",
    "    cm = confusion_matrix(y_test, y_pred, labels=[\"No\", \"Yes\"])\n",
    "    sns.heatmap(cm, annot=True, fmt='g', xticklabels=[\"No\", \"Yes\"], yticklabels=[\"No\", \"Yes\"])\n",
    "    rejected_offers = round(cm[0][0] * 100 / sum(cm[0]), 2)\n",
    "    print(\"Rejected offers prediction accuracy:\", rejected_offers, \"%\")\n",
    "    accepted_offers = round(cm[1][1] * 100 / sum(cm[1]), 2)  \n",
    "    print(\"Accepted offers prediction accuracy:\", accepted_offers, \"%\")"
   ]
  },
  {
   "cell_type": "code",
   "execution_count": 32,
   "id": "2dd13266",
   "metadata": {},
   "outputs": [],
   "source": [
    "regression_model = LogisticRegression(random_state=8, multi_class='ovr')"
   ]
  },
  {
   "cell_type": "markdown",
   "id": "6e0520e5",
   "metadata": {},
   "source": [
    "1. Logistic Regression"
   ]
  },
  {
   "cell_type": "code",
   "execution_count": 33,
   "id": "02599698",
   "metadata": {},
   "outputs": [
    {
     "name": "stdout",
     "output_type": "stream",
     "text": [
      "Rejected offers prediction accuracy: 100.0 %\n",
      "Accepted offers prediction accuracy: 0.0 %\n"
     ]
    },
    {
     "data": {
      "image/png": "[encoded data removed]",
      "text/plain": [
       "<Figure size 432x288 with 2 Axes>"
      ]
     },
     "metadata": {
      "needs_background": "light"
     },
     "output_type": "display_data"
    }
   ],
   "source": [
    "evaluate_model(data_nq, 'offer_accepted', regression_model, balance=None)"
   ]
  },
  {
   "cell_type": "markdown",
   "id": "a6274846",
   "metadata": {},
   "source": [
    "Model is predicting all offers as rejected and none as accepted. This is sigh of imbalanced data set."
   ]
  },
  {
   "cell_type": "markdown",
   "id": "72e15a91",
   "metadata": {},
   "source": [
    "We need to use SMOTE to balance data:"
   ]
  },
  {
   "cell_type": "markdown",
   "id": "f8acf849",
   "metadata": {},
   "source": [
    "2. Logistic Regression + SMOTE"
   ]
  },
  {
   "cell_type": "code",
   "execution_count": 34,
   "id": "023069b6",
   "metadata": {},
   "outputs": [
    {
     "name": "stdout",
     "output_type": "stream",
     "text": [
      "Rejected offers prediction accuracy: 68.68 %\n",
      "Accepted offers prediction accuracy: 69.9 %\n"
     ]
    },
    {
     "data": {
      "image/png": "[encoded data removed]",
      "text/plain": [
       "<Figure size 432x288 with 2 Axes>"
      ]
     },
     "metadata": {
      "needs_background": "light"
     },
     "output_type": "display_data"
    }
   ],
   "source": [
    "evaluate_model(data_nq, 'offer_accepted', regression_model, balance='smote')"
   ]
  },
  {
   "cell_type": "markdown",
   "id": "a1eec2b4",
   "metadata": {},
   "source": [
    "With SMOTE model seems to perform similarly for both classes."
   ]
  },
  {
   "cell_type": "markdown",
   "id": "9cdda949",
   "metadata": {},
   "source": [
    "3. KNN Model "
   ]
  },
  {
   "cell_type": "code",
   "execution_count": 35,
   "id": "2cc7bdc8",
   "metadata": {},
   "outputs": [],
   "source": [
    "KNN_model = KNeighborsClassifier(n_neighbors=3)"
   ]
  },
  {
   "cell_type": "code",
   "execution_count": 36,
   "id": "fe5b6b0d",
   "metadata": {},
   "outputs": [
    {
     "name": "stdout",
     "output_type": "stream",
     "text": [
      "Rejected offers prediction accuracy: 98.28 %\n",
      "Accepted offers prediction accuracy: 0.51 %\n"
     ]
    },
    {
     "data": {
      "image/png": "[encoded data removed]",
      "text/plain": [
       "<Figure size 432x288 with 2 Axes>"
      ]
     },
     "metadata": {
      "needs_background": "light"
     },
     "output_type": "display_data"
    }
   ],
   "source": [
    "evaluate_model(data_nq, 'offer_accepted', KNN_model, balance=None)"
   ]
  },
  {
   "cell_type": "markdown",
   "id": "6467f5ca",
   "metadata": {},
   "source": [
    "4. KNN Model + SMOTE"
   ]
  },
  {
   "cell_type": "code",
   "execution_count": 37,
   "id": "b2f7f589",
   "metadata": {},
   "outputs": [
    {
     "name": "stdout",
     "output_type": "stream",
     "text": [
      "Rejected offers prediction accuracy: 81.65 %\n",
      "Accepted offers prediction accuracy: 29.08 %\n"
     ]
    },
    {
     "data": {
      "image/png": "[encoded data removed]",
      "text/plain": [
       "<Figure size 432x288 with 2 Axes>"
      ]
     },
     "metadata": {
      "needs_background": "light"
     },
     "output_type": "display_data"
    }
   ],
   "source": [
    "evaluate_model(data_nq, 'offer_accepted', KNN_model, balance='smote')"
   ]
  },
  {
   "cell_type": "markdown",
   "id": "28657a51",
   "metadata": {},
   "source": [
    "KNN model with SMOTE perform worse than Logistic regression and SMOTE"
   ]
  },
  {
   "cell_type": "markdown",
   "id": "988424ac",
   "metadata": {},
   "source": [
    "5. DTC"
   ]
  },
  {
   "cell_type": "code",
   "execution_count": 38,
   "id": "bba1b5eb",
   "metadata": {},
   "outputs": [],
   "source": [
    "DTC =  DecisionTreeClassifier()"
   ]
  },
  {
   "cell_type": "code",
   "execution_count": 39,
   "id": "16c15a06",
   "metadata": {},
   "outputs": [
    {
     "name": "stdout",
     "output_type": "stream",
     "text": [
      "Rejected offers prediction accuracy: 93.38 %\n",
      "Accepted offers prediction accuracy: 15.82 %\n"
     ]
    },
    {
     "data": {
      "image/png": "[encoded data removed]",
      "text/plain": [
       "<Figure size 432x288 with 2 Axes>"
      ]
     },
     "metadata": {
      "needs_background": "light"
     },
     "output_type": "display_data"
    }
   ],
   "source": [
    "evaluate_model(data_nq, 'offer_accepted', DTC, balance=None)"
   ]
  },
  {
   "cell_type": "markdown",
   "id": "625d8b3d",
   "metadata": {},
   "source": [
    "6.DTC + SMOTE"
   ]
  },
  {
   "cell_type": "code",
   "execution_count": 40,
   "id": "67e1144b",
   "metadata": {},
   "outputs": [
    {
     "name": "stdout",
     "output_type": "stream",
     "text": [
      "Rejected offers prediction accuracy: 91.51 %\n",
      "Accepted offers prediction accuracy: 16.84 %\n"
     ]
    },
    {
     "data": {
      "image/png": "[encoded data removed]",
      "text/plain": [
       "<Figure size 432x288 with 2 Axes>"
      ]
     },
     "metadata": {
      "needs_background": "light"
     },
     "output_type": "display_data"
    }
   ],
   "source": [
    "evaluate_model(data_nq, 'offer_accepted', DTC, balance='smote')"
   ]
  },
  {
   "cell_type": "markdown",
   "id": "ede28af2",
   "metadata": {},
   "source": [
    "We will try to use data with non excluding quaterly balances and compare results:"
   ]
  },
  {
   "cell_type": "code",
   "execution_count": 42,
   "id": "c0cf9650",
   "metadata": {},
   "outputs": [],
   "source": [
    "data_2 = data.copy()\n",
    "\n",
    "\n",
    "# 1. scale numerical data\n",
    "num_norm_2 = normalize_data(data_2)\n",
    "\n",
    "# 2. encode categorical data\n",
    "cat_2 = encode_cat(data_2, 'offer_accepted')\n",
    "\n",
    "# 3. concat \n",
    "data_wq = pd.concat([num_norm_2, cat_2], axis = 1)"
   ]
  },
  {
   "cell_type": "markdown",
   "id": "7a574862",
   "metadata": {},
   "source": [
    "1.Logistic Regression"
   ]
  },
  {
   "cell_type": "code",
   "execution_count": 43,
   "id": "fcb17a06",
   "metadata": {},
   "outputs": [
    {
     "name": "stdout",
     "output_type": "stream",
     "text": [
      "Rejected offers prediction accuracy: 100.0 %\n",
      "Accepted offers prediction accuracy: 0.0 %\n"
     ]
    },
    {
     "data": {
      "image/png": "[encoded data removed]",
      "text/plain": [
       "<Figure size 432x288 with 2 Axes>"
      ]
     },
     "metadata": {
      "needs_background": "light"
     },
     "output_type": "display_data"
    }
   ],
   "source": [
    "evaluate_model(data_wq, 'offer_accepted', regression_model, balance=None)"
   ]
  },
  {
   "cell_type": "markdown",
   "id": "b7d28220",
   "metadata": {},
   "source": [
    "No difference in LogisticRegression without removing q balances."
   ]
  },
  {
   "cell_type": "markdown",
   "id": "bf3ca774",
   "metadata": {},
   "source": [
    "2.Logistic Regression + SMOTE"
   ]
  },
  {
   "cell_type": "code",
   "execution_count": 44,
   "id": "08800024",
   "metadata": {},
   "outputs": [
    {
     "name": "stdout",
     "output_type": "stream",
     "text": [
      "Rejected offers prediction accuracy: 68.89 %\n",
      "Accepted offers prediction accuracy: 69.9 %\n"
     ]
    },
    {
     "data": {
      "image/png": "[encoded data removed]",
      "text/plain": [
       "<Figure size 432x288 with 2 Axes>"
      ]
     },
     "metadata": {
      "needs_background": "light"
     },
     "output_type": "display_data"
    }
   ],
   "source": [
    "evaluate_model(data_wq, 'offer_accepted', regression_model, balance='smote')"
   ]
  },
  {
   "cell_type": "markdown",
   "id": "339338ca",
   "metadata": {},
   "source": [
    "3. KNN"
   ]
  },
  {
   "cell_type": "code",
   "execution_count": 45,
   "id": "059855d3",
   "metadata": {},
   "outputs": [
    {
     "name": "stdout",
     "output_type": "stream",
     "text": [
      "Rejected offers prediction accuracy: 98.28 %\n",
      "Accepted offers prediction accuracy: 0.51 %\n"
     ]
    },
    {
     "data": {
      "image/png": "[encoded data removed]",
      "text/plain": [
       "<Figure size 432x288 with 2 Axes>"
      ]
     },
     "metadata": {
      "needs_background": "light"
     },
     "output_type": "display_data"
    }
   ],
   "source": [
    "evaluate_model(data_wq, 'offer_accepted', KNN_model, balance=None)"
   ]
  },
  {
   "cell_type": "markdown",
   "id": "09db5965",
   "metadata": {},
   "source": [
    "4. KNN + SMOTE"
   ]
  },
  {
   "cell_type": "code",
   "execution_count": 46,
   "id": "2321222c",
   "metadata": {},
   "outputs": [
    {
     "name": "stdout",
     "output_type": "stream",
     "text": [
      "Rejected offers prediction accuracy: 81.71 %\n",
      "Accepted offers prediction accuracy: 30.1 %\n"
     ]
    },
    {
     "data": {
      "image/png": "[encoded data removed]",
      "text/plain": [
       "<Figure size 432x288 with 2 Axes>"
      ]
     },
     "metadata": {
      "needs_background": "light"
     },
     "output_type": "display_data"
    }
   ],
   "source": [
    "evaluate_model(data_wq, 'offer_accepted', KNN_model, balance='smote')"
   ]
  },
  {
   "cell_type": "markdown",
   "id": "1f0ae495",
   "metadata": {},
   "source": [
    "5. DTC "
   ]
  },
  {
   "cell_type": "code",
   "execution_count": 47,
   "id": "acb7f3a8",
   "metadata": {},
   "outputs": [
    {
     "name": "stdout",
     "output_type": "stream",
     "text": [
      "Rejected offers prediction accuracy: 93.77 %\n",
      "Accepted offers prediction accuracy: 14.29 %\n"
     ]
    },
    {
     "data": {
      "image/png": "[encoded data removed]",
      "text/plain": [
       "<Figure size 432x288 with 2 Axes>"
      ]
     },
     "metadata": {
      "needs_background": "light"
     },
     "output_type": "display_data"
    }
   ],
   "source": [
    "evaluate_model(data_wq, 'offer_accepted', DTC, balance=None)"
   ]
  },
  {
   "cell_type": "code",
   "execution_count": 48,
   "id": "0731f919",
   "metadata": {},
   "outputs": [
    {
     "name": "stdout",
     "output_type": "stream",
     "text": [
      "Rejected offers prediction accuracy: 91.69 %\n",
      "Accepted offers prediction accuracy: 15.31 %\n"
     ]
    },
    {
     "data": {
      "image/png": "[encoded data removed]",
      "text/plain": [
       "<Figure size 432x288 with 2 Axes>"
      ]
     },
     "metadata": {
      "needs_background": "light"
     },
     "output_type": "display_data"
    }
   ],
   "source": [
    "evaluate_model(data_wq, 'offer_accepted', DTC, balance='smote')"
   ]
  },
  {
   "cell_type": "markdown",
   "id": "8fd3a081",
   "metadata": {},
   "source": [
    "### The best model in terms of prediction accuracy across both accepted & rejected offers was logistic regression where the data was without balances for each quarter and training set was oversampled using SMOTE - 68.89% for rejected offers and 69.90% for accepted offers. Next steps would involve choosing different models  or explore different feature selections to improve the prediction accuracy."
   ]
  },
  {
   "cell_type": "code",
   "execution_count": null,
   "id": "66354238",
   "metadata": {},
   "outputs": [],
   "source": []
  },
  {
   "cell_type": "code",
   "execution_count": null,
   "id": "64db8420",
   "metadata": {},
   "outputs": [],
   "source": []
  },
  {
   "cell_type": "code",
   "execution_count": 112,
   "id": "bf51adca",
   "metadata": {},
   "outputs": [],
   "source": []
  },
  {
   "cell_type": "code",
   "execution_count": 113,
   "id": "8eb7f2f3",
   "metadata": {},
   "outputs": [],
   "source": []
  },
  {
   "cell_type": "code",
   "execution_count": 114,
   "id": "5856c50f",
   "metadata": {},
   "outputs": [],
   "source": []
  },
  {
   "cell_type": "code",
   "execution_count": null,
   "id": "84aa5a22",
   "metadata": {},
   "outputs": [],
   "source": []
  },
  {
   "cell_type": "code",
   "execution_count": null,
   "id": "b91f1797",
   "metadata": {},
   "outputs": [],
   "source": []
  },
  {
   "cell_type": "code",
   "execution_count": 122,
   "id": "cbf0a3eb",
   "metadata": {},
   "outputs": [],
   "source": []
  },
  {
   "cell_type": "code",
   "execution_count": null,
   "id": "26a5d0a9",
   "metadata": {},
   "outputs": [],
   "source": []
  },
  {
   "cell_type": "code",
   "execution_count": null,
   "id": "54950860",
   "metadata": {},
   "outputs": [],
   "source": []
  },
  {
   "cell_type": "code",
   "execution_count": null,
   "id": "8f562fe2",
   "metadata": {},
   "outputs": [],
   "source": []
  },
  {
   "cell_type": "code",
   "execution_count": null,
   "id": "31b10fd8",
   "metadata": {},
   "outputs": [],
   "source": []
  },
  {
   "cell_type": "code",
   "execution_count": null,
   "id": "1893f5dc",
   "metadata": {},
   "outputs": [],
   "source": []
  },
  {
   "cell_type": "code",
   "execution_count": null,
   "id": "fffa6020",
   "metadata": {},
   "outputs": [],
   "source": []
  },
  {
   "cell_type": "code",
   "execution_count": null,
   "id": "d3f1b2e1",
   "metadata": {},
   "outputs": [],
   "source": []
  },
  {
   "cell_type": "code",
   "execution_count": null,
   "id": "46098ffe",
   "metadata": {},
   "outputs": [],
   "source": []
  },
  {
   "cell_type": "code",
   "execution_count": null,
   "id": "27cd0cb0",
   "metadata": {},
   "outputs": [],
   "source": []
  },
  {
   "cell_type": "code",
   "execution_count": null,
   "id": "8c808216",
   "metadata": {},
   "outputs": [],
   "source": []
  },
  {
   "cell_type": "code",
   "execution_count": null,
   "id": "56ba2c82",
   "metadata": {},
   "outputs": [],
   "source": []
  },
  {
   "cell_type": "code",
   "execution_count": null,
   "id": "abc0dd97",
   "metadata": {},
   "outputs": [],
   "source": []
  },
  {
   "cell_type": "code",
   "execution_count": null,
   "id": "ba853f79",
   "metadata": {},
   "outputs": [],
   "source": []
  },
  {
   "cell_type": "code",
   "execution_count": null,
   "id": "39489222",
   "metadata": {},
   "outputs": [],
   "source": []
  },
  {
   "cell_type": "code",
   "execution_count": null,
   "id": "2f84a90f",
   "metadata": {},
   "outputs": [],
   "source": []
  },
  {
   "cell_type": "code",
   "execution_count": null,
   "id": "918df4a7",
   "metadata": {},
   "outputs": [],
   "source": []
  },
  {
   "cell_type": "code",
   "execution_count": null,
   "id": "5f9df3b9",
   "metadata": {},
   "outputs": [],
   "source": []
  },
  {
   "cell_type": "code",
   "execution_count": null,
   "id": "fcc445cd",
   "metadata": {},
   "outputs": [],
   "source": []
  },
  {
   "cell_type": "code",
   "execution_count": null,
   "id": "5061c032",
   "metadata": {},
   "outputs": [],
   "source": []
  },
  {
   "cell_type": "code",
   "execution_count": null,
   "id": "e8884819",
   "metadata": {},
   "outputs": [],
   "source": []
  },
  {
   "cell_type": "code",
   "execution_count": null,
   "id": "6c26b92b",
   "metadata": {},
   "outputs": [],
   "source": []
  },
  {
   "cell_type": "code",
   "execution_count": null,
   "id": "d4478c07",
   "metadata": {},
   "outputs": [],
   "source": []
  },
  {
   "cell_type": "code",
   "execution_count": null,
   "id": "7a2b5a5b",
   "metadata": {},
   "outputs": [],
   "source": []
  }
 ],
 "metadata": {
  "kernelspec": {
   "display_name": "Python 3 (ipykernel)",
   "language": "python",
   "name": "python3"
  },
  "language_info": {
   "codemirror_mode": {
    "name": "ipython",
    "version": 3
   },
   "file_extension": ".py",
   "mimetype": "text/x-python",
   "name": "python",
   "nbconvert_exporter": "python",
   "pygments_lexer": "ipython3",
   "version": "3.9.12"
  }
 },
 "nbformat": 4,
 "nbformat_minor": 5
}
